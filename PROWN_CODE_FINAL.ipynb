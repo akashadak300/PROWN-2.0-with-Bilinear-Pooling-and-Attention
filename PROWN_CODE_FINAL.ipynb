{
  "cells": [
    {
      "cell_type": "code",
      "execution_count": 1,
      "metadata": {
        "id": "vhClecI9Vt9L",
        "colab": {
          "base_uri": "https://localhost:8080/"
        },
        "outputId": "4b5ff952-5fc9-4836-a515-f1544ef9d199"
      },
      "outputs": [
        {
          "output_type": "stream",
          "name": "stdout",
          "text": [
            "Cloning into 'PROWN'...\n",
            "remote: Enumerating objects: 29, done.\u001b[K\n",
            "remote: Counting objects: 100% (29/29), done.\u001b[K\n",
            "remote: Compressing objects: 100% (28/28), done.\u001b[K\n",
            "remote: Total 29 (delta 9), reused 0 (delta 0), pack-reused 0 (from 0)\u001b[K\n",
            "Receiving objects: 100% (29/29), 29.25 KiB | 4.18 MiB/s, done.\n",
            "Resolving deltas: 100% (9/9), done.\n"
          ]
        }
      ],
      "source": [
        "!git clone https://github.com/akashadak300/PROWN-2.0-with-Bilinear-Pooling-and-Attention.git"
      ]
    },
    {
      "cell_type": "code",
      "execution_count": 2,
      "metadata": {
        "colab": {
          "base_uri": "https://localhost:8080/"
        },
        "id": "GdcOuk-cV73E",
        "outputId": "c7ef7dd8-92bd-44e3-c71e-2b140641b78f"
      },
      "outputs": [
        {
          "output_type": "stream",
          "name": "stdout",
          "text": [
            "/content/PROWN\n"
          ]
        }
      ],
      "source": [
        "%cd /content/PROWN"
      ]
    },
    {
      "cell_type": "code",
      "execution_count": 3,
      "metadata": {
        "colab": {
          "base_uri": "https://localhost:8080/"
        },
        "id": "_aEbIRG2V9J0",
        "outputId": "97dbb8eb-40c0-4439-f7df-bbb4f124aa05"
      },
      "outputs": [
        {
          "output_type": "stream",
          "name": "stdout",
          "text": [
            "Requirement already satisfied: torch in /usr/local/lib/python3.11/dist-packages (2.6.0+cu124)\n",
            "Requirement already satisfied: torchvision in /usr/local/lib/python3.11/dist-packages (0.21.0+cu124)\n",
            "Requirement already satisfied: numpy in /usr/local/lib/python3.11/dist-packages (2.0.2)\n",
            "Requirement already satisfied: scipy in /usr/local/lib/python3.11/dist-packages (1.14.1)\n",
            "Requirement already satisfied: tqdm in /usr/local/lib/python3.11/dist-packages (4.67.1)\n",
            "Requirement already satisfied: filelock in /usr/local/lib/python3.11/dist-packages (from torch) (3.18.0)\n",
            "Requirement already satisfied: typing-extensions>=4.10.0 in /usr/local/lib/python3.11/dist-packages (from torch) (4.13.2)\n",
            "Requirement already satisfied: networkx in /usr/local/lib/python3.11/dist-packages (from torch) (3.4.2)\n",
            "Requirement already satisfied: jinja2 in /usr/local/lib/python3.11/dist-packages (from torch) (3.1.6)\n",
            "Requirement already satisfied: fsspec in /usr/local/lib/python3.11/dist-packages (from torch) (2025.3.2)\n",
            "Collecting nvidia-cuda-nvrtc-cu12==12.4.127 (from torch)\n",
            "  Downloading nvidia_cuda_nvrtc_cu12-12.4.127-py3-none-manylinux2014_x86_64.whl.metadata (1.5 kB)\n",
            "Collecting nvidia-cuda-runtime-cu12==12.4.127 (from torch)\n",
            "  Downloading nvidia_cuda_runtime_cu12-12.4.127-py3-none-manylinux2014_x86_64.whl.metadata (1.5 kB)\n",
            "Collecting nvidia-cuda-cupti-cu12==12.4.127 (from torch)\n",
            "  Downloading nvidia_cuda_cupti_cu12-12.4.127-py3-none-manylinux2014_x86_64.whl.metadata (1.6 kB)\n",
            "Collecting nvidia-cudnn-cu12==9.1.0.70 (from torch)\n",
            "  Downloading nvidia_cudnn_cu12-9.1.0.70-py3-none-manylinux2014_x86_64.whl.metadata (1.6 kB)\n",
            "Collecting nvidia-cublas-cu12==12.4.5.8 (from torch)\n",
            "  Downloading nvidia_cublas_cu12-12.4.5.8-py3-none-manylinux2014_x86_64.whl.metadata (1.5 kB)\n",
            "Collecting nvidia-cufft-cu12==11.2.1.3 (from torch)\n",
            "  Downloading nvidia_cufft_cu12-11.2.1.3-py3-none-manylinux2014_x86_64.whl.metadata (1.5 kB)\n",
            "Collecting nvidia-curand-cu12==10.3.5.147 (from torch)\n",
            "  Downloading nvidia_curand_cu12-10.3.5.147-py3-none-manylinux2014_x86_64.whl.metadata (1.5 kB)\n",
            "Collecting nvidia-cusolver-cu12==11.6.1.9 (from torch)\n",
            "  Downloading nvidia_cusolver_cu12-11.6.1.9-py3-none-manylinux2014_x86_64.whl.metadata (1.6 kB)\n",
            "Collecting nvidia-cusparse-cu12==12.3.1.170 (from torch)\n",
            "  Downloading nvidia_cusparse_cu12-12.3.1.170-py3-none-manylinux2014_x86_64.whl.metadata (1.6 kB)\n",
            "Requirement already satisfied: nvidia-cusparselt-cu12==0.6.2 in /usr/local/lib/python3.11/dist-packages (from torch) (0.6.2)\n",
            "Requirement already satisfied: nvidia-nccl-cu12==2.21.5 in /usr/local/lib/python3.11/dist-packages (from torch) (2.21.5)\n",
            "Requirement already satisfied: nvidia-nvtx-cu12==12.4.127 in /usr/local/lib/python3.11/dist-packages (from torch) (12.4.127)\n",
            "Collecting nvidia-nvjitlink-cu12==12.4.127 (from torch)\n",
            "  Downloading nvidia_nvjitlink_cu12-12.4.127-py3-none-manylinux2014_x86_64.whl.metadata (1.5 kB)\n",
            "Requirement already satisfied: triton==3.2.0 in /usr/local/lib/python3.11/dist-packages (from torch) (3.2.0)\n",
            "Requirement already satisfied: sympy==1.13.1 in /usr/local/lib/python3.11/dist-packages (from torch) (1.13.1)\n",
            "Requirement already satisfied: mpmath<1.4,>=1.1.0 in /usr/local/lib/python3.11/dist-packages (from sympy==1.13.1->torch) (1.3.0)\n",
            "Requirement already satisfied: pillow!=8.3.*,>=5.3.0 in /usr/local/lib/python3.11/dist-packages (from torchvision) (11.1.0)\n",
            "Requirement already satisfied: MarkupSafe>=2.0 in /usr/local/lib/python3.11/dist-packages (from jinja2->torch) (3.0.2)\n",
            "Downloading nvidia_cublas_cu12-12.4.5.8-py3-none-manylinux2014_x86_64.whl (363.4 MB)\n",
            "\u001b[2K   \u001b[90m━━━━━━━━━━━━━━━━━━━━━━━━━━━━━━━━━━━━━━━━\u001b[0m \u001b[32m363.4/363.4 MB\u001b[0m \u001b[31m3.9 MB/s\u001b[0m eta \u001b[36m0:00:00\u001b[0m\n",
            "\u001b[?25hDownloading nvidia_cuda_cupti_cu12-12.4.127-py3-none-manylinux2014_x86_64.whl (13.8 MB)\n",
            "\u001b[2K   \u001b[90m━━━━━━━━━━━━━━━━━━━━━━━━━━━━━━━━━━━━━━━━\u001b[0m \u001b[32m13.8/13.8 MB\u001b[0m \u001b[31m65.5 MB/s\u001b[0m eta \u001b[36m0:00:00\u001b[0m\n",
            "\u001b[?25hDownloading nvidia_cuda_nvrtc_cu12-12.4.127-py3-none-manylinux2014_x86_64.whl (24.6 MB)\n",
            "\u001b[2K   \u001b[90m━━━━━━━━━━━━━━━━━━━━━━━━━━━━━━━━━━━━━━━━\u001b[0m \u001b[32m24.6/24.6 MB\u001b[0m \u001b[31m36.3 MB/s\u001b[0m eta \u001b[36m0:00:00\u001b[0m\n",
            "\u001b[?25hDownloading nvidia_cuda_runtime_cu12-12.4.127-py3-none-manylinux2014_x86_64.whl (883 kB)\n",
            "\u001b[2K   \u001b[90m━━━━━━━━━━━━━━━━━━━━━━━━━━━━━━━━━━━━━━━━\u001b[0m \u001b[32m883.7/883.7 kB\u001b[0m \u001b[31m50.3 MB/s\u001b[0m eta \u001b[36m0:00:00\u001b[0m\n",
            "\u001b[?25hDownloading nvidia_cudnn_cu12-9.1.0.70-py3-none-manylinux2014_x86_64.whl (664.8 MB)\n",
            "\u001b[2K   \u001b[90m━━━━━━━━━━━━━━━━━━━━━━━━━━━━━━━━━━━━━━━━\u001b[0m \u001b[32m664.8/664.8 MB\u001b[0m \u001b[31m1.3 MB/s\u001b[0m eta \u001b[36m0:00:00\u001b[0m\n",
            "\u001b[?25hDownloading nvidia_cufft_cu12-11.2.1.3-py3-none-manylinux2014_x86_64.whl (211.5 MB)\n",
            "\u001b[2K   \u001b[90m━━━━━━━━━━━━━━━━━━━━━━━━━━━━━━━━━━━━━━━━\u001b[0m \u001b[32m211.5/211.5 MB\u001b[0m \u001b[31m5.3 MB/s\u001b[0m eta \u001b[36m0:00:00\u001b[0m\n",
            "\u001b[?25hDownloading nvidia_curand_cu12-10.3.5.147-py3-none-manylinux2014_x86_64.whl (56.3 MB)\n",
            "\u001b[2K   \u001b[90m━━━━━━━━━━━━━━━━━━━━━━━━━━━━━━━━━━━━━━━━\u001b[0m \u001b[32m56.3/56.3 MB\u001b[0m \u001b[31m12.1 MB/s\u001b[0m eta \u001b[36m0:00:00\u001b[0m\n",
            "\u001b[?25hDownloading nvidia_cusolver_cu12-11.6.1.9-py3-none-manylinux2014_x86_64.whl (127.9 MB)\n",
            "\u001b[2K   \u001b[90m━━━━━━━━━━━━━━━━━━━━━━━━━━━━━━━━━━━━━━━━\u001b[0m \u001b[32m127.9/127.9 MB\u001b[0m \u001b[31m7.4 MB/s\u001b[0m eta \u001b[36m0:00:00\u001b[0m\n",
            "\u001b[?25hDownloading nvidia_cusparse_cu12-12.3.1.170-py3-none-manylinux2014_x86_64.whl (207.5 MB)\n",
            "\u001b[2K   \u001b[90m━━━━━━━━━━━━━━━━━━━━━━━━━━━━━━━━━━━━━━━━\u001b[0m \u001b[32m207.5/207.5 MB\u001b[0m \u001b[31m5.6 MB/s\u001b[0m eta \u001b[36m0:00:00\u001b[0m\n",
            "\u001b[?25hDownloading nvidia_nvjitlink_cu12-12.4.127-py3-none-manylinux2014_x86_64.whl (21.1 MB)\n",
            "\u001b[2K   \u001b[90m━━━━━━━━━━━━━━━━━━━━━━━━━━━━━━━━━━━━━━━━\u001b[0m \u001b[32m21.1/21.1 MB\u001b[0m \u001b[31m85.2 MB/s\u001b[0m eta \u001b[36m0:00:00\u001b[0m\n",
            "\u001b[?25hInstalling collected packages: nvidia-nvjitlink-cu12, nvidia-curand-cu12, nvidia-cufft-cu12, nvidia-cuda-runtime-cu12, nvidia-cuda-nvrtc-cu12, nvidia-cuda-cupti-cu12, nvidia-cublas-cu12, nvidia-cusparse-cu12, nvidia-cudnn-cu12, nvidia-cusolver-cu12\n",
            "  Attempting uninstall: nvidia-nvjitlink-cu12\n",
            "    Found existing installation: nvidia-nvjitlink-cu12 12.5.82\n",
            "    Uninstalling nvidia-nvjitlink-cu12-12.5.82:\n",
            "      Successfully uninstalled nvidia-nvjitlink-cu12-12.5.82\n",
            "  Attempting uninstall: nvidia-curand-cu12\n",
            "    Found existing installation: nvidia-curand-cu12 10.3.6.82\n",
            "    Uninstalling nvidia-curand-cu12-10.3.6.82:\n",
            "      Successfully uninstalled nvidia-curand-cu12-10.3.6.82\n",
            "  Attempting uninstall: nvidia-cufft-cu12\n",
            "    Found existing installation: nvidia-cufft-cu12 11.2.3.61\n",
            "    Uninstalling nvidia-cufft-cu12-11.2.3.61:\n",
            "      Successfully uninstalled nvidia-cufft-cu12-11.2.3.61\n",
            "  Attempting uninstall: nvidia-cuda-runtime-cu12\n",
            "    Found existing installation: nvidia-cuda-runtime-cu12 12.5.82\n",
            "    Uninstalling nvidia-cuda-runtime-cu12-12.5.82:\n",
            "      Successfully uninstalled nvidia-cuda-runtime-cu12-12.5.82\n",
            "  Attempting uninstall: nvidia-cuda-nvrtc-cu12\n",
            "    Found existing installation: nvidia-cuda-nvrtc-cu12 12.5.82\n",
            "    Uninstalling nvidia-cuda-nvrtc-cu12-12.5.82:\n",
            "      Successfully uninstalled nvidia-cuda-nvrtc-cu12-12.5.82\n",
            "  Attempting uninstall: nvidia-cuda-cupti-cu12\n",
            "    Found existing installation: nvidia-cuda-cupti-cu12 12.5.82\n",
            "    Uninstalling nvidia-cuda-cupti-cu12-12.5.82:\n",
            "      Successfully uninstalled nvidia-cuda-cupti-cu12-12.5.82\n",
            "  Attempting uninstall: nvidia-cublas-cu12\n",
            "    Found existing installation: nvidia-cublas-cu12 12.5.3.2\n",
            "    Uninstalling nvidia-cublas-cu12-12.5.3.2:\n",
            "      Successfully uninstalled nvidia-cublas-cu12-12.5.3.2\n",
            "  Attempting uninstall: nvidia-cusparse-cu12\n",
            "    Found existing installation: nvidia-cusparse-cu12 12.5.1.3\n",
            "    Uninstalling nvidia-cusparse-cu12-12.5.1.3:\n",
            "      Successfully uninstalled nvidia-cusparse-cu12-12.5.1.3\n",
            "  Attempting uninstall: nvidia-cudnn-cu12\n",
            "    Found existing installation: nvidia-cudnn-cu12 9.3.0.75\n",
            "    Uninstalling nvidia-cudnn-cu12-9.3.0.75:\n",
            "      Successfully uninstalled nvidia-cudnn-cu12-9.3.0.75\n",
            "  Attempting uninstall: nvidia-cusolver-cu12\n",
            "    Found existing installation: nvidia-cusolver-cu12 11.6.3.83\n",
            "    Uninstalling nvidia-cusolver-cu12-11.6.3.83:\n",
            "      Successfully uninstalled nvidia-cusolver-cu12-11.6.3.83\n",
            "Successfully installed nvidia-cublas-cu12-12.4.5.8 nvidia-cuda-cupti-cu12-12.4.127 nvidia-cuda-nvrtc-cu12-12.4.127 nvidia-cuda-runtime-cu12-12.4.127 nvidia-cudnn-cu12-9.1.0.70 nvidia-cufft-cu12-11.2.1.3 nvidia-curand-cu12-10.3.5.147 nvidia-cusolver-cu12-11.6.1.9 nvidia-cusparse-cu12-12.3.1.170 nvidia-nvjitlink-cu12-12.4.127\n"
          ]
        }
      ],
      "source": [
        "!pip install torch torchvision numpy scipy tqdm"
      ]
    },
    {
      "cell_type": "code",
      "execution_count": 4,
      "metadata": {
        "id": "zLzEN108WA-_"
      },
      "outputs": [],
      "source": [
        "from models import resnet34\n",
        "from datasets import _cifar10\n",
        "import torch\n",
        "import torch.nn as nn\n",
        "import torch.optim as optim\n",
        "from utils import train\n",
        "from torch.utils.data import DataLoader\n",
        "from sklearn.metrics import f1_score  # Assuming you're using f1_score from sklearn"
      ]
    },
    {
      "cell_type": "code",
      "execution_count": 5,
      "metadata": {
        "colab": {
          "base_uri": "https://localhost:8080/"
        },
        "id": "cWZnsbIPWyAl",
        "outputId": "232a0eb5-61f8-4b43-8f73-db6a039a139b"
      },
      "outputs": [
        {
          "output_type": "stream",
          "name": "stderr",
          "text": [
            "100%|██████████| 170M/170M [00:18<00:00, 9.13MB/s]\n"
          ]
        }
      ],
      "source": [
        "# Get the train, test, and flipped datasets\n",
        "train_dataset = _cifar10(split=\"train\")\n",
        "flip_set = _cifar10(split=\"train\") # replace if you have function defined otherwise.\n",
        "test_dataset = _cifar10(split=\"test\")"
      ]
    },
    {
      "cell_type": "code",
      "execution_count": 6,
      "metadata": {
        "id": "vptb5hftW5d3"
      },
      "outputs": [],
      "source": [
        "model = resnet34()\n",
        "criterion = nn.CrossEntropyLoss()\n",
        "optimizer = optim.Adam(model.parameters(), lr=0.001)\n"
      ]
    },
    {
      "cell_type": "code",
      "execution_count": 7,
      "metadata": {
        "colab": {
          "base_uri": "https://localhost:8080/"
        },
        "id": "x8-P9x3RXFyN",
        "outputId": "4348281d-f089-4547-d302-34d9b047c83c"
      },
      "outputs": [
        {
          "output_type": "stream",
          "name": "stderr",
          "text": [
            "\r  0%|          | 0/10 [00:00<?, ?it/s]"
          ]
        },
        {
          "output_type": "stream",
          "name": "stdout",
          "text": [
            "Train acc 0.45546, Flip acc 0.63486\n",
            "Train acc 0.45546, Flip acc 0.67612\n",
            "Train acc 0.45546, Flip acc 0.7044133333333333\n",
            "Train acc 0.45546, Flip acc 0.724865\n"
          ]
        },
        {
          "output_type": "stream",
          "name": "stderr",
          "text": [
            "\r 10%|█         | 1/10 [04:30<40:30, 270.11s/it]"
          ]
        },
        {
          "output_type": "stream",
          "name": "stdout",
          "text": [
            "Train acc 0.45546, Flip acc 0.74164\n",
            "Train acc 0.8211, Flip acc 0.83726\n",
            "Train acc 0.8211, Flip acc 0.84148\n",
            "Train acc 0.8211, Flip acc 0.8470333333333333\n",
            "Train acc 0.8211, Flip acc 0.85174\n"
          ]
        },
        {
          "output_type": "stream",
          "name": "stderr",
          "text": [
            "\r 20%|██        | 2/10 [09:02<36:12, 271.56s/it]"
          ]
        },
        {
          "output_type": "stream",
          "name": "stdout",
          "text": [
            "Train acc 0.8211, Flip acc 0.856252\n",
            "Train acc 0.88194, Flip acc 0.88682\n",
            "Train acc 0.88194, Flip acc 0.88915\n",
            "Train acc 0.88194, Flip acc 0.8916\n",
            "Train acc 0.88194, Flip acc 0.893805\n"
          ]
        },
        {
          "output_type": "stream",
          "name": "stderr",
          "text": [
            "\r 30%|███       | 3/10 [13:32<31:36, 270.89s/it]"
          ]
        },
        {
          "output_type": "stream",
          "name": "stdout",
          "text": [
            "Train acc 0.88194, Flip acc 0.896324\n",
            "Train acc 0.91078, Flip acc 0.9164\n",
            "Train acc 0.91078, Flip acc 0.91727\n",
            "Train acc 0.91078, Flip acc 0.9191\n",
            "Train acc 0.91078, Flip acc 0.92072\n"
          ]
        },
        {
          "output_type": "stream",
          "name": "stderr",
          "text": [
            "\r 40%|████      | 4/10 [18:02<27:01, 270.27s/it]"
          ]
        },
        {
          "output_type": "stream",
          "name": "stdout",
          "text": [
            "Train acc 0.91078, Flip acc 0.922316\n",
            "Train acc 0.93152, Flip acc 0.934\n",
            "Train acc 0.93152, Flip acc 0.93554\n",
            "Train acc 0.93152, Flip acc 0.9368066666666667\n",
            "Train acc 0.93152, Flip acc 0.938435\n"
          ]
        },
        {
          "output_type": "stream",
          "name": "stderr",
          "text": [
            "\r 50%|█████     | 5/10 [22:30<22:27, 269.59s/it]"
          ]
        },
        {
          "output_type": "stream",
          "name": "stdout",
          "text": [
            "Train acc 0.93152, Flip acc 0.939552\n",
            "Train acc 0.94614, Flip acc 0.94964\n",
            "Train acc 0.94614, Flip acc 0.95022\n",
            "Train acc 0.94614, Flip acc 0.9507466666666666\n",
            "Train acc 0.94614, Flip acc 0.951715\n"
          ]
        },
        {
          "output_type": "stream",
          "name": "stderr",
          "text": [
            "\r 60%|██████    | 6/10 [26:58<17:56, 269.16s/it]"
          ]
        },
        {
          "output_type": "stream",
          "name": "stdout",
          "text": [
            "Train acc 0.94614, Flip acc 0.952404\n",
            "Train acc 0.95982, Flip acc 0.95862\n",
            "Train acc 0.95982, Flip acc 0.96007\n",
            "Train acc 0.95982, Flip acc 0.9599266666666667\n",
            "Train acc 0.95982, Flip acc 0.9604\n"
          ]
        },
        {
          "output_type": "stream",
          "name": "stderr",
          "text": [
            "\r 70%|███████   | 7/10 [31:26<13:25, 268.64s/it]"
          ]
        },
        {
          "output_type": "stream",
          "name": "stdout",
          "text": [
            "Train acc 0.95982, Flip acc 0.961112\n",
            "Train acc 0.96688, Flip acc 0.96568\n",
            "Train acc 0.96688, Flip acc 0.96673\n",
            "Train acc 0.96688, Flip acc 0.96754\n",
            "Train acc 0.96688, Flip acc 0.967955\n"
          ]
        },
        {
          "output_type": "stream",
          "name": "stderr",
          "text": [
            "\r 80%|████████  | 8/10 [35:55<08:57, 268.93s/it]"
          ]
        },
        {
          "output_type": "stream",
          "name": "stdout",
          "text": [
            "Train acc 0.96688, Flip acc 0.968128\n",
            "Train acc 0.96956, Flip acc 0.97198\n",
            "Train acc 0.96956, Flip acc 0.97277\n",
            "Train acc 0.96956, Flip acc 0.97334\n",
            "Train acc 0.96956, Flip acc 0.97291\n"
          ]
        },
        {
          "output_type": "stream",
          "name": "stderr",
          "text": [
            "\r 90%|█████████ | 9/10 [40:27<04:29, 269.77s/it]"
          ]
        },
        {
          "output_type": "stream",
          "name": "stdout",
          "text": [
            "Train acc 0.96956, Flip acc 0.97308\n",
            "Train acc 0.97556, Flip acc 0.97518\n",
            "Train acc 0.97556, Flip acc 0.97622\n",
            "Train acc 0.97556, Flip acc 0.9765066666666666\n",
            "Train acc 0.97556, Flip acc 0.97697\n"
          ]
        },
        {
          "output_type": "stream",
          "name": "stderr",
          "text": [
            "100%|██████████| 10/10 [44:57<00:00, 269.76s/it]"
          ]
        },
        {
          "output_type": "stream",
          "name": "stdout",
          "text": [
            "Train acc 0.97556, Flip acc 0.977284\n"
          ]
        },
        {
          "output_type": "stream",
          "name": "stderr",
          "text": [
            "\n"
          ]
        },
        {
          "output_type": "execute_result",
          "data": {
            "text/plain": [
              "([0.45546,\n",
              "  0.8211,\n",
              "  0.88194,\n",
              "  0.91078,\n",
              "  0.93152,\n",
              "  0.94614,\n",
              "  0.95982,\n",
              "  0.96688,\n",
              "  0.96956,\n",
              "  0.97556],\n",
              " [0.63486,\n",
              "  0.67612,\n",
              "  0.7044133333333333,\n",
              "  0.724865,\n",
              "  0.74164,\n",
              "  0.83726,\n",
              "  0.84148,\n",
              "  0.8470333333333333,\n",
              "  0.85174,\n",
              "  0.856252,\n",
              "  0.88682,\n",
              "  0.88915,\n",
              "  0.8916,\n",
              "  0.893805,\n",
              "  0.896324,\n",
              "  0.9164,\n",
              "  0.91727,\n",
              "  0.9191,\n",
              "  0.92072,\n",
              "  0.922316,\n",
              "  0.934,\n",
              "  0.93554,\n",
              "  0.9368066666666667,\n",
              "  0.938435,\n",
              "  0.939552,\n",
              "  0.94964,\n",
              "  0.95022,\n",
              "  0.9507466666666666,\n",
              "  0.951715,\n",
              "  0.952404,\n",
              "  0.95862,\n",
              "  0.96007,\n",
              "  0.9599266666666667,\n",
              "  0.9604,\n",
              "  0.961112,\n",
              "  0.96568,\n",
              "  0.96673,\n",
              "  0.96754,\n",
              "  0.967955,\n",
              "  0.968128,\n",
              "  0.97198,\n",
              "  0.97277,\n",
              "  0.97334,\n",
              "  0.97291,\n",
              "  0.97308,\n",
              "  0.97518,\n",
              "  0.97622,\n",
              "  0.9765066666666666,\n",
              "  0.97697,\n",
              "  0.977284],\n",
              " [])"
            ]
          },
          "metadata": {},
          "execution_count": 7
        }
      ],
      "source": [
        "# Training loop\n",
        "# for epoch in range(1):  # Number of epochs\n",
        "device = torch.device(\"cuda\" if torch.cuda.is_available() else \"cpu\")\n",
        "\n",
        "# Call the train function with the datasets, not DataLoader\n",
        "train(model, train_dataset, flip_set, test_dataset, num_epochs=10, device=device)"
      ]
    },
    {
      "cell_type": "code",
      "execution_count": 8,
      "metadata": {
        "id": "V9qru8kPXMYL"
      },
      "outputs": [],
      "source": [
        "import os\n",
        "os.makedirs('/content/PROWN/teacher_cifar10_resnet34', exist_ok=True)"
      ]
    },
    {
      "cell_type": "code",
      "execution_count": 9,
      "metadata": {
        "id": "BNZflEntZzF7"
      },
      "outputs": [],
      "source": [
        "torch.save(model.state_dict(), '/content/PROWN/teacher_cifar10_resnet34/model_1.pth')"
      ]
    },
    {
      "cell_type": "code",
      "execution_count": 10,
      "metadata": {
        "colab": {
          "base_uri": "https://localhost:8080/"
        },
        "id": "b8r-6cRxZ0qv",
        "outputId": "eda92fb9-276f-4178-967c-d0e31608cb5f"
      },
      "outputs": [
        {
          "output_type": "stream",
          "name": "stdout",
          "text": [
            "Training with policy - soft. Training on cifar10. Evaluation on cifar10\n",
            "Evaluated Teacher Model on cifar10\n",
            "Teacher Model Train Acc 0.977, Test Acc 0.885\n",
            "  0% 0/50 [00:00<?, ?it/s]Model saved, cifar10 performance:\n",
            "Model 0 epoch. Train acc 0.100                   Test acc 0.100\n",
            "Epoch 1 Train loss 2.2310 Last Test Loss 2.1980 Train Student Acc 0.1126\n",
            "  2% 1/50 [00:58<48:08, 58.96s/it]Epoch 2 Train loss 2.1133 Last Test Loss 2.1980 Train Student Acc 0.1570\n",
            "  4% 2/50 [01:29<34:00, 42.51s/it]Epoch 3 Train loss 1.9007 Last Test Loss 2.1980 Train Student Acc 0.2026\n",
            "  6% 3/50 [02:01<29:11, 37.28s/it]Epoch 4 Train loss 1.7324 Last Test Loss 2.1980 Train Student Acc 0.2821\n",
            "  8% 4/50 [02:31<26:35, 34.69s/it]Epoch 5 Train loss 1.5482 Last Test Loss 2.1980 Train Student Acc 0.3883\n",
            " 10% 5/50 [03:02<24:56, 33.27s/it]Model saved, cifar10 performance:\n",
            "Model 5 epoch. Train acc 0.523                   Test acc 0.531\n",
            "Epoch 6 Train loss 1.3549 Last Test Loss 1.2144 Train Student Acc 0.4868\n",
            " 12% 6/50 [04:01<30:49, 42.04s/it]Epoch 7 Train loss 1.1820 Last Test Loss 1.2144 Train Student Acc 0.5687\n",
            " 14% 7/50 [04:32<27:37, 38.54s/it]Epoch 8 Train loss 1.1090 Last Test Loss 1.2144 Train Student Acc 0.5993\n",
            " 16% 8/50 [05:04<25:23, 36.27s/it]Epoch 9 Train loss 0.9904 Last Test Loss 1.2144 Train Student Acc 0.6504\n",
            " 18% 9/50 [05:35<23:36, 34.54s/it]Epoch 10 Train loss 0.9277 Last Test Loss 1.2144 Train Student Acc 0.6756\n",
            " 20% 10/50 [06:06<22:20, 33.51s/it]Model saved, cifar10 performance:\n",
            "Model 10 epoch. Train acc 0.708                   Test acc 0.702\n",
            "Epoch 11 Train loss 0.8733 Last Test Loss 0.8178 Train Student Acc 0.6957\n",
            " 22% 11/50 [07:03<26:35, 40.90s/it]Epoch 12 Train loss 0.8163 Last Test Loss 0.8178 Train Student Acc 0.7138\n",
            " 24% 12/50 [07:35<24:07, 38.08s/it]Epoch 13 Train loss 0.7977 Last Test Loss 0.8178 Train Student Acc 0.7230\n",
            " 26% 13/50 [08:06<22:09, 35.93s/it]Epoch 14 Train loss 0.7460 Last Test Loss 0.8178 Train Student Acc 0.7392\n",
            " 28% 14/50 [08:37<20:38, 34.39s/it]Epoch 15 Train loss 0.7248 Last Test Loss 0.8178 Train Student Acc 0.7498\n",
            " 30% 15/50 [09:08<19:32, 33.50s/it]Model saved, cifar10 performance:\n",
            "Model 15 epoch. Train acc 0.780                   Test acc 0.764\n",
            "Epoch 16 Train loss 0.6923 Last Test Loss 0.6250 Train Student Acc 0.7603\n",
            " 32% 16/50 [10:07<23:12, 40.97s/it]Epoch 17 Train loss 0.6650 Last Test Loss 0.6250 Train Student Acc 0.7695\n",
            " 34% 17/50 [10:38<21:00, 38.21s/it]Epoch 18 Train loss 0.6458 Last Test Loss 0.6250 Train Student Acc 0.7717\n",
            " 36% 18/50 [11:10<19:14, 36.09s/it]Epoch 19 Train loss 0.6281 Last Test Loss 0.6250 Train Student Acc 0.7812\n",
            " 38% 19/50 [11:41<17:52, 34.58s/it]Epoch 20 Train loss 0.6090 Last Test Loss 0.6250 Train Student Acc 0.7887\n",
            " 40% 20/50 [12:12<16:46, 33.57s/it]Model saved, cifar10 performance:\n",
            "Model 20 epoch. Train acc 0.802                   Test acc 0.788\n",
            "Epoch 21 Train loss 0.6114 Last Test Loss 0.5770 Train Student Acc 0.7875\n",
            " 42% 21/50 [13:09<19:43, 40.81s/it]Epoch 22 Train loss 0.6131 Last Test Loss 0.5770 Train Student Acc 0.7880\n",
            " 44% 22/50 [13:41<17:45, 38.06s/it]Epoch 23 Train loss 0.5767 Last Test Loss 0.5770 Train Student Acc 0.7982\n",
            " 46% 23/50 [14:12<16:11, 35.98s/it]Epoch 24 Train loss 0.5610 Last Test Loss 0.5770 Train Student Acc 0.8040\n",
            " 48% 24/50 [14:44<14:58, 34.58s/it]Epoch 25 Train loss 0.5732 Last Test Loss 0.5770 Train Student Acc 0.7984\n",
            " 50% 25/50 [15:15<13:57, 33.49s/it]Model saved, cifar10 performance:\n",
            "Model 25 epoch. Train acc 0.816                   Test acc 0.794\n",
            "Epoch 26 Train loss 0.5477 Last Test Loss 0.5164 Train Student Acc 0.8106\n",
            " 52% 26/50 [16:12<16:18, 40.77s/it]Epoch 27 Train loss 0.5492 Last Test Loss 0.5164 Train Student Acc 0.8114\n",
            " 54% 27/50 [16:44<14:32, 37.94s/it]Epoch 28 Train loss 0.5377 Last Test Loss 0.5164 Train Student Acc 0.8131\n",
            " 56% 28/50 [17:15<13:10, 35.92s/it]Epoch 29 Train loss 0.5314 Last Test Loss 0.5164 Train Student Acc 0.8165\n",
            " 58% 29/50 [17:46<12:02, 34.39s/it]Epoch 30 Train loss 0.5197 Last Test Loss 0.5164 Train Student Acc 0.8188\n",
            " 60% 30/50 [18:17<11:08, 33.40s/it]Model saved, cifar10 performance:\n",
            "Model 30 epoch. Train acc 0.832                   Test acc 0.814\n",
            "Epoch 31 Train loss 0.4963 Last Test Loss 0.5232 Train Student Acc 0.8285\n",
            " 62% 31/50 [19:16<13:03, 41.26s/it]Epoch 32 Train loss 0.5014 Last Test Loss 0.5232 Train Student Acc 0.8262\n",
            " 64% 32/50 [19:48<11:30, 38.38s/it]Epoch 33 Train loss 0.5044 Last Test Loss 0.5232 Train Student Acc 0.8246\n",
            " 66% 33/50 [20:19<10:16, 36.24s/it]Epoch 34 Train loss 0.4923 Last Test Loss 0.5232 Train Student Acc 0.8265\n",
            " 68% 34/50 [20:50<09:14, 34.63s/it]Epoch 35 Train loss 0.5048 Last Test Loss 0.5232 Train Student Acc 0.8254\n",
            " 70% 35/50 [21:22<08:26, 33.73s/it]Model not saved, cifar10 perfomance:\n",
            "Model 35 epoch. Train acc 0.818                   Test acc 0.793\n",
            "Best test acc: 0.8137\n",
            "Epoch 36 Train loss 0.4857 Last Test Loss 0.5865 Train Student Acc 0.8284\n",
            " 72% 36/50 [22:18<09:24, 40.35s/it]Epoch 37 Train loss 0.4806 Last Test Loss 0.5865 Train Student Acc 0.8310\n",
            " 74% 37/50 [22:49<08:10, 37.73s/it]Epoch 38 Train loss 0.4742 Last Test Loss 0.5865 Train Student Acc 0.8355\n",
            " 76% 38/50 [23:20<07:09, 35.77s/it]Epoch 39 Train loss 0.4739 Last Test Loss 0.5865 Train Student Acc 0.8363\n",
            " 78% 39/50 [23:51<06:17, 34.32s/it]Epoch 40 Train loss 0.4675 Last Test Loss 0.5865 Train Student Acc 0.8375\n",
            " 80% 40/50 [24:23<05:34, 33.49s/it]Model saved, cifar10 performance:\n",
            "Model 40 epoch. Train acc 0.904                   Test acc 0.874\n",
            "Epoch 41 Train loss 0.3056 Last Test Loss 0.3256 Train Student Acc 0.8886\n",
            " 82% 41/50 [25:20<06:06, 40.73s/it]Epoch 42 Train loss 0.2556 Last Test Loss 0.3256 Train Student Acc 0.9052\n",
            " 84% 42/50 [25:52<05:04, 38.09s/it]Epoch 43 Train loss 0.2424 Last Test Loss 0.3256 Train Student Acc 0.9104\n",
            " 86% 43/50 [26:24<04:12, 36.02s/it]Epoch 44 Train loss 0.2304 Last Test Loss 0.3256 Train Student Acc 0.9155\n",
            " 88% 44/50 [26:55<03:27, 34.56s/it]Epoch 45 Train loss 0.2196 Last Test Loss 0.3256 Train Student Acc 0.9195\n",
            " 90% 45/50 [27:26<02:47, 33.54s/it]Model saved, cifar10 performance:\n",
            "Model 45 epoch. Train acc 0.928                   Test acc 0.885\n",
            "Epoch 46 Train loss 0.2093 Last Test Loss 0.3141 Train Student Acc 0.9226\n",
            " 92% 46/50 [28:25<02:45, 41.34s/it]Epoch 47 Train loss 0.2063 Last Test Loss 0.3141 Train Student Acc 0.9230\n",
            " 94% 47/50 [28:57<01:55, 38.42s/it]Epoch 48 Train loss 0.2083 Last Test Loss 0.3141 Train Student Acc 0.9231\n",
            " 96% 48/50 [29:29<01:12, 36.33s/it]Epoch 49 Train loss 0.1996 Last Test Loss 0.3141 Train Student Acc 0.9267\n",
            " 98% 49/50 [30:00<00:34, 34.77s/it]Epoch 50 Train loss 0.1982 Last Test Loss 0.3141 Train Student Acc 0.9262\n",
            "100% 50/50 [30:31<00:00, 36.63s/it]\n",
            "Training with policy - soft. Training on cifar10. Evaluation on cifar10\n",
            "Evaluated Teacher Model on cifar10\n",
            "Teacher Model Train Acc 0.977, Test Acc 0.885\n",
            "  0% 0/50 [00:00<?, ?it/s]Model saved, cifar10 performance:\n",
            "Model 0 epoch. Train acc 0.136                   Test acc 0.152\n",
            "Epoch 1 Train loss 2.2264 Last Test Loss 2.1655 Train Student Acc 0.1197\n",
            "  2% 1/50 [00:58<47:39, 58.35s/it]Epoch 2 Train loss 2.2355 Last Test Loss 2.1655 Train Student Acc 0.1050\n",
            "  4% 2/50 [01:29<33:42, 42.14s/it]Epoch 3 Train loss 2.2376 Last Test Loss 2.1655 Train Student Acc 0.1004\n",
            "  6% 3/50 [01:59<28:49, 36.79s/it]Epoch 4 Train loss 2.2376 Last Test Loss 2.1655 Train Student Acc 0.0977\n",
            "  8% 4/50 [02:29<26:12, 34.19s/it]Epoch 5 Train loss 2.2371 Last Test Loss 2.1655 Train Student Acc 0.0997\n",
            " 10% 5/50 [03:00<24:43, 32.97s/it]Model not saved, cifar10 perfomance:\n",
            "Model 5 epoch. Train acc 0.100                   Test acc 0.100\n",
            "Best test acc: 0.1519\n",
            "Epoch 6 Train loss 2.2374 Last Test Loss 2.1987 Train Student Acc 0.0991\n",
            " 12% 6/50 [03:55<29:41, 40.50s/it]Epoch 7 Train loss 2.2365 Last Test Loss 2.1987 Train Student Acc 0.1001\n",
            " 14% 7/50 [04:57<30:27, 42.50s/it]Exception ignored in: <generator object tqdm.__iter__ at 0x7ee4e3686640>\n",
            "Traceback (most recent call last):\n",
            "  File \"/usr/local/lib/python3.11/dist-packages/tqdm/std.py\", line 1196, in __iter__\n",
            "    self.close()\n",
            "  File \"/usr/local/lib/python3.11/dist-packages/tqdm/std.py\", line 1302, in close\n",
            "    self.display(pos=0)\n",
            "  File \"/usr/local/lib/python3.11/dist-packages/tqdm/std.py\", line 1495, in display\n",
            "    self.sp(self.__str__() if msg is None else msg)\n",
            "  File \"/usr/local/lib/python3.11/dist-packages/tqdm/std.py\", line 459, in print_status\n",
            "    fp_write('\\r' + s + (' ' * max(last_len[0] - len_s, 0)))\n",
            "  File \"/usr/local/lib/python3.11/dist-packages/tqdm/std.py\", line 452, in fp_write\n",
            "    fp.write(str(s))\n",
            "  File \"/usr/local/lib/python3.11/dist-packages/tqdm/utils.py\", line 196, in inner\n",
            "    return func(*args, **kwargs)\n",
            "           ^^^^^^^^^^^^^^^^^^^^^\n",
            "KeyboardInterrupt: \n",
            "Traceback (most recent call last):\n",
            "  File \"/content/PROWN/distillation_extraction.py\", line 192, in <module>\n",
            "    steal(student_model, teacher_model, dataset=args.dataset, evalset=args.evalset,\n",
            "  File \"/content/PROWN/distillation_extraction.py\", line 88, in steal\n",
            "    for i, data in enumerate(train_dataloader, 0):\n",
            "  File \"/usr/local/lib/python3.11/dist-packages/torch/utils/data/dataloader.py\", line 708, in __next__\n",
            "    data = self._next_data()\n",
            "           ^^^^^^^^^^^^^^^^^\n",
            "  File \"/usr/local/lib/python3.11/dist-packages/torch/utils/data/dataloader.py\", line 1446, in _next_data\n",
            "    self._shutdown_workers()\n",
            "  File \"/usr/local/lib/python3.11/dist-packages/torch/utils/data/dataloader.py\", line 1582, in _shutdown_workers\n",
            "    w.join(timeout=_utils.MP_STATUS_CHECK_INTERVAL)\n",
            "  File \"/usr/lib/python3.11/multiprocessing/process.py\", line 149, in join\n",
            "    res = self._popen.wait(timeout)\n",
            "          ^^^^^^^^^^^^^^^^^^^^^^^^^\n",
            "  File \"/usr/lib/python3.11/multiprocessing/popen_fork.py\", line 40, in wait\n",
            "    if not wait([self.sentinel], timeout):\n",
            "           ^^^^^^^^^^^^^^^^^^^^^^^^^^^^^^\n",
            "  File \"/usr/lib/python3.11/multiprocessing/connection.py\", line 948, in wait\n",
            "    ready = selector.select(timeout)\n",
            "            ^^^^^^^^^^^^^^^^^^^^^^^^\n",
            "  File \"/usr/lib/python3.11/selectors.py\", line 415, in select\n",
            "    fd_event_list = self._selector.poll(timeout)\n",
            "                    ^^^^^^^^^^^^^^^^^^^^^^^^^^^^\n",
            "KeyboardInterrupt\n"
          ]
        }
      ],
      "source": [
        "# need to stop after 5 epochs\n",
        "!python distillation_extraction.py --dataset cifar10 \\\n",
        "    --model_name resnet34 \\\n",
        "    --model_path /content/PROWN/teacher_cifar10_resnet34/model_1.pth \\\n",
        "    --student_name vgg11 \\\n",
        "    --policy soft \\\n",
        "    --num_models 2"
      ]
    },
    {
      "cell_type": "code",
      "execution_count": 11,
      "metadata": {
        "colab": {
          "base_uri": "https://localhost:8080/"
        },
        "id": "ZGaz6aC0Z6se",
        "outputId": "e625631d-0c6a-4cdb-b5bc-f72abce9c252"
      },
      "outputs": [
        {
          "output_type": "stream",
          "name": "stdout",
          "text": [
            "100% 32/32 [00:19<00:00,  1.63it/s]\n",
            "len dataset 72\n",
            "reject coefficient 0.5625\n",
            "Elements in trigerset: 72\n",
            "100% 32/32 [00:19<00:00,  1.65it/s]\n",
            "len dataset 68\n",
            "reject coefficient 0.53125\n",
            "Elements in trigerset: 100\n",
            "ReSample times: 2\n",
            "Average time: 22.47880184650421\n",
            "Start evaluate stolen models\n",
            "Accuracy  0.51\n",
            "Accuracy  0.08\n",
            "======================\n",
            "Mean acc 0.295 +- 0.304\n",
            "======================\n"
          ]
        }
      ],
      "source": [
        "# This is normal code\n",
        "\n",
        "!python create_test_watermarks.py --dataset cifar10 \\\n",
        "    --model_name resnet34 \\\n",
        "    --model_path /content/PROWN/teacher_cifar10_resnet34/model_1.pth \\\n",
        "    --student_name vgg11 \\\n",
        "    --student_path /content/PROWN/models/stealing_vgg11_cifar10_soft \\\n",
        "    --sigma1 8e-3 \\\n",
        "    --M 32 \\\n",
        "    --N 100"
      ]
    },
    {
      "cell_type": "code",
      "execution_count": 12,
      "metadata": {
        "colab": {
          "base_uri": "https://localhost:8080/"
        },
        "id": "VYXNxkfDScj4",
        "outputId": "5d42728d-e240-4129-b3a8-ec7c23b3a090"
      },
      "outputs": [
        {
          "output_type": "stream",
          "name": "stdout",
          "text": [
            "100% 32/32 [00:20<00:00,  1.56it/s]\n",
            "len dataset 71\n",
            "reject coefficient 0.5546875\n",
            "Elements in trigerset: 71\n",
            "100% 32/32 [00:18<00:00,  1.73it/s]\n",
            "len dataset 63\n",
            "reject coefficient 0.4921875\n",
            "Elements in trigerset: 100\n",
            "ReSample times: 2\n",
            "Average time: 24.121626377105713\n",
            "Start evaluate stolen models\n",
            "Accuracy  0.51\n",
            "Accuracy  0.11\n",
            "======================\n",
            "Mean acc 0.310 +- 0.283\n",
            "======================\n"
          ]
        }
      ],
      "source": [
        "# This is code with bilinear pooling\n",
        "\n",
        "!python create_test_watermarks_bilinear_pooling_attention.py --dataset cifar10 \\\n",
        "    --model_name resnet34 \\\n",
        "    --model_path /content/PROWN/teacher_cifar10_resnet34/model_1.pth \\\n",
        "    --student_name vgg11 \\\n",
        "    --student_path /content/PROWN/models/stealing_vgg11_cifar10_soft \\\n",
        "    --sigma1 8e-3 \\\n",
        "    --M 32 \\\n",
        "    --N 100"
      ]
    },
    {
      "cell_type": "code",
      "execution_count": 13,
      "metadata": {
        "colab": {
          "base_uri": "https://localhost:8080/"
        },
        "id": "SHuwZkBvRmmD",
        "outputId": "3bce603c-adce-4b74-85f7-e2093ecdc405"
      },
      "outputs": [
        {
          "output_type": "stream",
          "name": "stdout",
          "text": [
            "100% 32/32 [00:20<00:00,  1.57it/s]\n",
            "len dataset 71\n",
            "reject coefficient 0.5546875\n",
            "Elements in trigerset: 71\n",
            "100% 32/32 [00:18<00:00,  1.73it/s]\n",
            "len dataset 66\n",
            "reject coefficient 0.515625\n",
            "Elements in trigerset: 100\n",
            "ReSample times: 2\n",
            "Average time: 22.603620886802673\n",
            "Start evaluate stolen models\n",
            "Accuracy  0.52\n",
            "Accuracy  0.27\n",
            "======================\n",
            "Mean acc 0.395 +- 0.177\n",
            "======================\n"
          ]
        }
      ],
      "source": [
        "# This is code with bilinear pooling with attention\n",
        "!python create_test_watermarks_bilinear_pooling.py --dataset cifar10 \\\n",
        "    --model_name resnet34 \\\n",
        "    --model_path /content/PROWN/teacher_cifar10_resnet34/model_1.pth \\\n",
        "    --student_name vgg11 \\\n",
        "    --student_path /content/PROWN/models/stealing_vgg11_cifar10_soft \\\n",
        "    --sigma1 8e-3 \\\n",
        "    --M 32 \\\n",
        "    --N 100"
      ]
    }
  ],
  "metadata": {
    "accelerator": "GPU",
    "colab": {
      "gpuType": "T4",
      "provenance": []
    },
    "kernelspec": {
      "display_name": "Python 3",
      "name": "python3"
    },
    "language_info": {
      "name": "python"
    }
  },
  "nbformat": 4,
  "nbformat_minor": 0
}
